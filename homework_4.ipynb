{
 "cells": [
  {
   "cell_type": "markdown",
   "source": [
    "## Домашняя работа «Оценка точности модели, переобучение, регуляризация» обновленное"
   ],
   "metadata": {
    "collapsed": false,
    "pycharm": {
     "name": "#%% md\n"
    }
   }
  },
  {
   "cell_type": "code",
   "execution_count": 102,
   "metadata": {
    "collapsed": true,
    "pycharm": {
     "name": "#%%\n"
    }
   },
   "outputs": [],
   "source": [
    "import pandas as pd\n",
    "from sklearn.preprocessing import LabelEncoder\n",
    "from sklearn.model_selection import train_test_split, GridSearchCV\n",
    "import matplotlib.pyplot as plt\n",
    "from numpy import arange\n",
    "from sklearn.linear_model import LogisticRegression\n",
    "from sklearn.metrics import roc_auc_score, roc_curve, precision_recall_curve"
   ]
  },
  {
   "cell_type": "markdown",
   "source": [
    "1. Преобразуйте данные\n",
    "\n",
    "a. проверьте наличие пропущенных значений. Преобразуйте/удалите пропуски по необходимости;\n",
    "\n",
    "b. закодируйте категориальные переменные числовыми значениями по необходимости."
   ],
   "metadata": {
    "collapsed": false,
    "pycharm": {
     "name": "#%% md\n"
    }
   }
  },
  {
   "cell_type": "code",
   "execution_count": 103,
   "outputs": [],
   "source": [
    "data = pd.read_csv(\"athletes.csv\")"
   ],
   "metadata": {
    "collapsed": false,
    "pycharm": {
     "name": "#%%\n"
    }
   }
  },
  {
   "cell_type": "code",
   "execution_count": 104,
   "outputs": [
    {
     "name": "stdout",
     "output_type": "stream",
     "text": [
      "<class 'pandas.core.frame.DataFrame'>\n",
      "RangeIndex: 11538 entries, 0 to 11537\n",
      "Data columns (total 11 columns):\n",
      " #   Column       Non-Null Count  Dtype  \n",
      "---  ------       --------------  -----  \n",
      " 0   id           11538 non-null  int64  \n",
      " 1   name         11538 non-null  object \n",
      " 2   nationality  11538 non-null  object \n",
      " 3   sex          11538 non-null  object \n",
      " 4   dob          11537 non-null  object \n",
      " 5   height       11208 non-null  float64\n",
      " 6   weight       10879 non-null  float64\n",
      " 7   sport        11538 non-null  object \n",
      " 8   gold         11538 non-null  int64  \n",
      " 9   silver       11538 non-null  int64  \n",
      " 10  bronze       11538 non-null  int64  \n",
      "dtypes: float64(2), int64(4), object(5)\n",
      "memory usage: 991.7+ KB\n"
     ]
    }
   ],
   "source": [
    "data.info()"
   ],
   "metadata": {
    "collapsed": false,
    "pycharm": {
     "name": "#%%\n"
    }
   }
  },
  {
   "cell_type": "code",
   "execution_count": 105,
   "outputs": [
    {
     "data": {
      "text/plain": "           id                  name nationality     sex       dob  height  \\\n0   736041664        A Jesus Garcia         ESP    male  10/17/69    1.72   \n1   532037425            A Lam Shin         KOR  female   9/23/86    1.68   \n2   435962603           Aaron Brown         CAN    male   5/27/92    1.98   \n3   521041435            Aaron Cook         MDA    male    1/2/91    1.83   \n4    33922579            Aaron Gate         NZL    male  11/26/90    1.81   \n5   173071782           Aaron Royle         AUS    male   1/26/90    1.80   \n6   266237702         Aaron Russell         USA    male    6/4/93    2.05   \n7   382571888         Aaron Younger         AUS    male   9/25/91    1.93   \n8    87689776   Aauri Lorena Bokesa         ESP  female  12/14/88    1.80   \n9   997877719       Ababel Yeshaneh         ETH  female   7/22/91    1.65   \n10  343694681           Abadi Hadis         ETH    male   11/6/97    1.70   \n11  591319906  Abbas Abubakar Abbas         BRN    male   5/17/96    1.75   \n12  258556239            Abbas Qali         IOA    male  10/11/92     NaN   \n13  376068084      Abbey D'Agostino         USA  female   5/25/92    1.61   \n14  162792594        Abbey Weitzeil         USA  female   12/3/96    1.78   \n\n    weight       sport  gold  silver  bronze  \n0     64.0   athletics     0       0       0  \n1     56.0     fencing     0       0       0  \n2     79.0   athletics     0       0       1  \n3     80.0   taekwondo     0       0       0  \n4     71.0     cycling     0       0       0  \n5     67.0   triathlon     0       0       0  \n6     98.0  volleyball     0       0       1  \n7    100.0    aquatics     0       0       0  \n8     62.0   athletics     0       0       0  \n9     54.0   athletics     0       0       0  \n10    63.0   athletics     0       0       0  \n11    66.0   athletics     0       0       0  \n12     NaN    aquatics     0       0       0  \n13    49.0   athletics     0       0       0  \n14    68.0    aquatics     1       1       0  ",
      "text/html": "<div>\n<style scoped>\n    .dataframe tbody tr th:only-of-type {\n        vertical-align: middle;\n    }\n\n    .dataframe tbody tr th {\n        vertical-align: top;\n    }\n\n    .dataframe thead th {\n        text-align: right;\n    }\n</style>\n<table border=\"1\" class=\"dataframe\">\n  <thead>\n    <tr style=\"text-align: right;\">\n      <th></th>\n      <th>id</th>\n      <th>name</th>\n      <th>nationality</th>\n      <th>sex</th>\n      <th>dob</th>\n      <th>height</th>\n      <th>weight</th>\n      <th>sport</th>\n      <th>gold</th>\n      <th>silver</th>\n      <th>bronze</th>\n    </tr>\n  </thead>\n  <tbody>\n    <tr>\n      <th>0</th>\n      <td>736041664</td>\n      <td>A Jesus Garcia</td>\n      <td>ESP</td>\n      <td>male</td>\n      <td>10/17/69</td>\n      <td>1.72</td>\n      <td>64.0</td>\n      <td>athletics</td>\n      <td>0</td>\n      <td>0</td>\n      <td>0</td>\n    </tr>\n    <tr>\n      <th>1</th>\n      <td>532037425</td>\n      <td>A Lam Shin</td>\n      <td>KOR</td>\n      <td>female</td>\n      <td>9/23/86</td>\n      <td>1.68</td>\n      <td>56.0</td>\n      <td>fencing</td>\n      <td>0</td>\n      <td>0</td>\n      <td>0</td>\n    </tr>\n    <tr>\n      <th>2</th>\n      <td>435962603</td>\n      <td>Aaron Brown</td>\n      <td>CAN</td>\n      <td>male</td>\n      <td>5/27/92</td>\n      <td>1.98</td>\n      <td>79.0</td>\n      <td>athletics</td>\n      <td>0</td>\n      <td>0</td>\n      <td>1</td>\n    </tr>\n    <tr>\n      <th>3</th>\n      <td>521041435</td>\n      <td>Aaron Cook</td>\n      <td>MDA</td>\n      <td>male</td>\n      <td>1/2/91</td>\n      <td>1.83</td>\n      <td>80.0</td>\n      <td>taekwondo</td>\n      <td>0</td>\n      <td>0</td>\n      <td>0</td>\n    </tr>\n    <tr>\n      <th>4</th>\n      <td>33922579</td>\n      <td>Aaron Gate</td>\n      <td>NZL</td>\n      <td>male</td>\n      <td>11/26/90</td>\n      <td>1.81</td>\n      <td>71.0</td>\n      <td>cycling</td>\n      <td>0</td>\n      <td>0</td>\n      <td>0</td>\n    </tr>\n    <tr>\n      <th>5</th>\n      <td>173071782</td>\n      <td>Aaron Royle</td>\n      <td>AUS</td>\n      <td>male</td>\n      <td>1/26/90</td>\n      <td>1.80</td>\n      <td>67.0</td>\n      <td>triathlon</td>\n      <td>0</td>\n      <td>0</td>\n      <td>0</td>\n    </tr>\n    <tr>\n      <th>6</th>\n      <td>266237702</td>\n      <td>Aaron Russell</td>\n      <td>USA</td>\n      <td>male</td>\n      <td>6/4/93</td>\n      <td>2.05</td>\n      <td>98.0</td>\n      <td>volleyball</td>\n      <td>0</td>\n      <td>0</td>\n      <td>1</td>\n    </tr>\n    <tr>\n      <th>7</th>\n      <td>382571888</td>\n      <td>Aaron Younger</td>\n      <td>AUS</td>\n      <td>male</td>\n      <td>9/25/91</td>\n      <td>1.93</td>\n      <td>100.0</td>\n      <td>aquatics</td>\n      <td>0</td>\n      <td>0</td>\n      <td>0</td>\n    </tr>\n    <tr>\n      <th>8</th>\n      <td>87689776</td>\n      <td>Aauri Lorena Bokesa</td>\n      <td>ESP</td>\n      <td>female</td>\n      <td>12/14/88</td>\n      <td>1.80</td>\n      <td>62.0</td>\n      <td>athletics</td>\n      <td>0</td>\n      <td>0</td>\n      <td>0</td>\n    </tr>\n    <tr>\n      <th>9</th>\n      <td>997877719</td>\n      <td>Ababel Yeshaneh</td>\n      <td>ETH</td>\n      <td>female</td>\n      <td>7/22/91</td>\n      <td>1.65</td>\n      <td>54.0</td>\n      <td>athletics</td>\n      <td>0</td>\n      <td>0</td>\n      <td>0</td>\n    </tr>\n    <tr>\n      <th>10</th>\n      <td>343694681</td>\n      <td>Abadi Hadis</td>\n      <td>ETH</td>\n      <td>male</td>\n      <td>11/6/97</td>\n      <td>1.70</td>\n      <td>63.0</td>\n      <td>athletics</td>\n      <td>0</td>\n      <td>0</td>\n      <td>0</td>\n    </tr>\n    <tr>\n      <th>11</th>\n      <td>591319906</td>\n      <td>Abbas Abubakar Abbas</td>\n      <td>BRN</td>\n      <td>male</td>\n      <td>5/17/96</td>\n      <td>1.75</td>\n      <td>66.0</td>\n      <td>athletics</td>\n      <td>0</td>\n      <td>0</td>\n      <td>0</td>\n    </tr>\n    <tr>\n      <th>12</th>\n      <td>258556239</td>\n      <td>Abbas Qali</td>\n      <td>IOA</td>\n      <td>male</td>\n      <td>10/11/92</td>\n      <td>NaN</td>\n      <td>NaN</td>\n      <td>aquatics</td>\n      <td>0</td>\n      <td>0</td>\n      <td>0</td>\n    </tr>\n    <tr>\n      <th>13</th>\n      <td>376068084</td>\n      <td>Abbey D'Agostino</td>\n      <td>USA</td>\n      <td>female</td>\n      <td>5/25/92</td>\n      <td>1.61</td>\n      <td>49.0</td>\n      <td>athletics</td>\n      <td>0</td>\n      <td>0</td>\n      <td>0</td>\n    </tr>\n    <tr>\n      <th>14</th>\n      <td>162792594</td>\n      <td>Abbey Weitzeil</td>\n      <td>USA</td>\n      <td>female</td>\n      <td>12/3/96</td>\n      <td>1.78</td>\n      <td>68.0</td>\n      <td>aquatics</td>\n      <td>1</td>\n      <td>1</td>\n      <td>0</td>\n    </tr>\n  </tbody>\n</table>\n</div>"
     },
     "execution_count": 105,
     "metadata": {},
     "output_type": "execute_result"
    }
   ],
   "source": [
    "data.head(15)"
   ],
   "metadata": {
    "collapsed": false,
    "pycharm": {
     "name": "#%%\n"
    }
   }
  },
  {
   "cell_type": "markdown",
   "source": [
    "проверим, в каких атрибутах у нас есть пустые строки, исключая атрибут sex (я буду использовать его, как целевой) и незначимый атрибут id\n",
    "часть строк может иметь пустые атрибуты в нескольких полях, поэтому целесообразно постепенно удалять строки с пустыми значениями и проверять значение Non-Null count в выводе df.info()"
   ],
   "metadata": {
    "collapsed": false,
    "pycharm": {
     "name": "#%% md\n"
    }
   }
  },
  {
   "cell_type": "code",
   "execution_count": 106,
   "outputs": [
    {
     "name": "stdout",
     "output_type": "stream",
     "text": [
      "Для height пустых строк 330\n",
      "Для weight пустых строк 659\n",
      "Всего строк в наборе 11538\n"
     ]
    }
   ],
   "source": [
    "print('Для height пустых строк ' + str( len( data[ pd.isnull( data['height'] ) ] ) ))\n",
    "print('Для weight пустых строк ' + str( len( data[ pd.isnull( data['weight'] ) ] ) ))\n",
    "print('Всего строк в наборе ' + str( len( data ) ))"
   ],
   "metadata": {
    "collapsed": false,
    "pycharm": {
     "name": "#%%\n"
    }
   }
  },
  {
   "cell_type": "markdown",
   "source": [
    "попробуем удалить такие строки для роста и веса"
   ],
   "metadata": {
    "collapsed": false,
    "pycharm": {
     "name": "#%% md\n"
    }
   }
  },
  {
   "cell_type": "code",
   "execution_count": 107,
   "outputs": [],
   "source": [
    "data = data[ pd.isnull( data['height'] ) == 0 ]\n",
    "data = data[ pd.isnull( data['weight'] ) == 0 ]"
   ],
   "metadata": {
    "collapsed": false,
    "pycharm": {
     "name": "#%%\n"
    }
   }
  },
  {
   "cell_type": "code",
   "execution_count": 108,
   "outputs": [
    {
     "name": "stdout",
     "output_type": "stream",
     "text": [
      "<class 'pandas.core.frame.DataFrame'>\n",
      "Int64Index: 10858 entries, 0 to 11537\n",
      "Data columns (total 11 columns):\n",
      " #   Column       Non-Null Count  Dtype  \n",
      "---  ------       --------------  -----  \n",
      " 0   id           10858 non-null  int64  \n",
      " 1   name         10858 non-null  object \n",
      " 2   nationality  10858 non-null  object \n",
      " 3   sex          10858 non-null  object \n",
      " 4   dob          10858 non-null  object \n",
      " 5   height       10858 non-null  float64\n",
      " 6   weight       10858 non-null  float64\n",
      " 7   sport        10858 non-null  object \n",
      " 8   gold         10858 non-null  int64  \n",
      " 9   silver       10858 non-null  int64  \n",
      " 10  bronze       10858 non-null  int64  \n",
      "dtypes: float64(2), int64(4), object(5)\n",
      "memory usage: 1017.9+ KB\n"
     ]
    }
   ],
   "source": [
    "data.info()"
   ],
   "metadata": {
    "collapsed": false,
    "pycharm": {
     "name": "#%%\n"
    }
   }
  },
  {
   "cell_type": "markdown",
   "source": [
    "Этого оказалось достаточно, во всех атрибутах непустые строки, значит, остальные пустые значения просто совпадали в строках"
   ],
   "metadata": {
    "collapsed": false,
    "pycharm": {
     "name": "#%% md\n"
    }
   }
  },
  {
   "cell_type": "markdown",
   "source": [
    "Нужно решить, что еще я не буду использовать для модели. Понятно, что имя и дату рождения нецелесообразно, они уникальны или почти уникальны, а также разумно предположить, что трудно ожидать от них влияния на модель. Проверю уникальность значений для других полей"
   ],
   "metadata": {
    "collapsed": false,
    "pycharm": {
     "name": "#%% md\n"
    }
   }
  },
  {
   "cell_type": "code",
   "execution_count": 109,
   "outputs": [
    {
     "name": "stdout",
     "output_type": "stream",
     "text": [
      "200\n",
      "82\n",
      "123\n",
      "27\n"
     ]
    }
   ],
   "source": [
    "print(len(data['nationality'].unique()))\n",
    "print(len(data['height'].unique()))\n",
    "print(len(data['weight'].unique()))\n",
    "print(len(data['sport'].unique()))"
   ],
   "metadata": {
    "collapsed": false,
    "pycharm": {
     "name": "#%%\n"
    }
   }
  },
  {
   "cell_type": "markdown",
   "source": [
    "Многовато. На продуктиве, если этого требует задача, вполне можно было бы их трансформировать с помощью data = pd.get_dummies(data, columns=cat_columns), и у меня получилось бы ну очень много атрибутов для модели, но для учебных целей можно просто не использовать категориальные признаки"
   ],
   "metadata": {
    "collapsed": false,
    "pycharm": {
     "name": "#%% md\n"
    }
   }
  },
  {
   "cell_type": "code",
   "execution_count": 110,
   "outputs": [
    {
     "data": {
      "text/plain": "   height  weight  gold  silver  bronze\n0    1.72    64.0     0       0       0\n1    1.68    56.0     0       0       0\n2    1.98    79.0     0       0       1\n3    1.83    80.0     0       0       0\n4    1.81    71.0     0       0       0",
      "text/html": "<div>\n<style scoped>\n    .dataframe tbody tr th:only-of-type {\n        vertical-align: middle;\n    }\n\n    .dataframe tbody tr th {\n        vertical-align: top;\n    }\n\n    .dataframe thead th {\n        text-align: right;\n    }\n</style>\n<table border=\"1\" class=\"dataframe\">\n  <thead>\n    <tr style=\"text-align: right;\">\n      <th></th>\n      <th>height</th>\n      <th>weight</th>\n      <th>gold</th>\n      <th>silver</th>\n      <th>bronze</th>\n    </tr>\n  </thead>\n  <tbody>\n    <tr>\n      <th>0</th>\n      <td>1.72</td>\n      <td>64.0</td>\n      <td>0</td>\n      <td>0</td>\n      <td>0</td>\n    </tr>\n    <tr>\n      <th>1</th>\n      <td>1.68</td>\n      <td>56.0</td>\n      <td>0</td>\n      <td>0</td>\n      <td>0</td>\n    </tr>\n    <tr>\n      <th>2</th>\n      <td>1.98</td>\n      <td>79.0</td>\n      <td>0</td>\n      <td>0</td>\n      <td>1</td>\n    </tr>\n    <tr>\n      <th>3</th>\n      <td>1.83</td>\n      <td>80.0</td>\n      <td>0</td>\n      <td>0</td>\n      <td>0</td>\n    </tr>\n    <tr>\n      <th>4</th>\n      <td>1.81</td>\n      <td>71.0</td>\n      <td>0</td>\n      <td>0</td>\n      <td>0</td>\n    </tr>\n  </tbody>\n</table>\n</div>"
     },
     "execution_count": 110,
     "metadata": {},
     "output_type": "execute_result"
    }
   ],
   "source": [
    "X = data[['height', 'weight', 'gold', 'silver', 'bronze']]\n",
    "X.head(5)"
   ],
   "metadata": {
    "collapsed": false,
    "pycharm": {
     "name": "#%%\n"
    }
   }
  },
  {
   "cell_type": "markdown",
   "source": [
    "2. Разделите выборку на обучающее (80% данных) и тестовое (20% данных) подмножества."
   ],
   "metadata": {
    "collapsed": false,
    "pycharm": {
     "name": "#%% md\n"
    }
   }
  },
  {
   "cell_type": "markdown",
   "source": [
    "исходные данные для модели:"
   ],
   "metadata": {
    "collapsed": false,
    "pycharm": {
     "name": "#%% md\n"
    }
   }
  },
  {
   "cell_type": "code",
   "execution_count": 111,
   "outputs": [
    {
     "data": {
      "text/plain": "0    1\n1    0\n2    1\n3    1\n4    1\ndtype: int64"
     },
     "execution_count": 111,
     "metadata": {},
     "output_type": "execute_result"
    }
   ],
   "source": [
    "#X определен выше\n",
    "le = LabelEncoder()\n",
    "le.fit(data['sex'])\n",
    "y = pd.Series(data = le.transform(data['sex']))\n",
    "y.head(5)"
   ],
   "metadata": {
    "collapsed": false,
    "pycharm": {
     "name": "#%%\n"
    }
   }
  },
  {
   "cell_type": "markdown",
   "source": [
    "делим выборку"
   ],
   "metadata": {
    "collapsed": false,
    "pycharm": {
     "name": "#%% md\n"
    }
   }
  },
  {
   "cell_type": "code",
   "execution_count": 112,
   "outputs": [],
   "source": [
    "X_train, X_test, y_train, y_test = train_test_split(X, y, test_size=0.2)"
   ],
   "metadata": {
    "collapsed": false,
    "pycharm": {
     "name": "#%%\n"
    }
   }
  },
  {
   "cell_type": "markdown",
   "source": [
    "3. Постройте ROC-кривую с помощью функции sklearn.metrics. roc_curve."
   ],
   "metadata": {
    "collapsed": false,
    "pycharm": {
     "name": "#%% md\n"
    }
   }
  },
  {
   "cell_type": "markdown",
   "source": [
    "построим для этого модель"
   ],
   "metadata": {
    "collapsed": false,
    "pycharm": {
     "name": "#%% md\n"
    }
   }
  },
  {
   "cell_type": "code",
   "execution_count": 113,
   "outputs": [
    {
     "data": {
      "text/plain": "LogisticRegression()"
     },
     "execution_count": 113,
     "metadata": {},
     "output_type": "execute_result"
    }
   ],
   "source": [
    "model = LogisticRegression()\n",
    "model.fit(X_train, y_train)"
   ],
   "metadata": {
    "collapsed": false,
    "pycharm": {
     "name": "#%%\n"
    }
   }
  },
  {
   "cell_type": "code",
   "execution_count": 114,
   "outputs": [],
   "source": [
    "predictions = model.predict_proba(X_test)\n",
    "fpr, tpr, thresh = roc_curve(y_test, predictions[:,1])"
   ],
   "metadata": {
    "collapsed": false,
    "pycharm": {
     "name": "#%%\n"
    }
   }
  },
  {
   "cell_type": "code",
   "execution_count": 115,
   "outputs": [
    {
     "data": {
      "text/plain": "<Figure size 864x864 with 1 Axes>",
      "image/png": "[encoded data removed]"
     },
     "metadata": {
      "needs_background": "light"
     },
     "output_type": "display_data"
    }
   ],
   "source": [
    "plt.figure(figsize=(12, 12))\n",
    "plt.plot(fpr, tpr)\n",
    "plt.title('ROC AUC', fontdict={'fontsize': 20})\n",
    "plt.xlabel('False Positive Rate', fontdict={'fontsize': 20})\n",
    "plt.ylabel('True Positive Rate', fontdict={'fontsize': 20})\n",
    "plt.show()"
   ],
   "metadata": {
    "collapsed": false,
    "pycharm": {
     "name": "#%%\n"
    }
   }
  },
  {
   "cell_type": "markdown",
   "source": [
    "4. Вычислите значение ROC-AUC метрики с помощью функции sklearn.metrics.roc_auc_score."
   ],
   "metadata": {
    "collapsed": false,
    "pycharm": {
     "name": "#%% md\n"
    }
   }
  },
  {
   "cell_type": "code",
   "execution_count": 116,
   "outputs": [
    {
     "data": {
      "text/plain": "0.8504375666840369"
     },
     "execution_count": 116,
     "metadata": {},
     "output_type": "execute_result"
    }
   ],
   "source": [
    "roc_auc_score(y_test, predictions[:, 1])"
   ],
   "metadata": {
    "collapsed": false,
    "pycharm": {
     "name": "#%%\n"
    }
   }
  },
  {
   "cell_type": "markdown",
   "source": [
    "5. Реализуйте подсчет метрик TPR, FPR «вручную», без использования готовых функций из библиотеки sklearn.\n",
    "6. Постройте ROC-кривую с помощью вычисленных в п. 5 метрик: объедините графики из п. 3 и п. 6 в один. Сравните, сделайте вывод.\n",
    "7. Постройте график Precision-Recall, используя метрики, посчитанные в п. 5.\n",
    "8. *Вычислите значение ROC-AUC метрики, используя метрики, посчитанные в п. 5."
   ],
   "metadata": {
    "collapsed": false,
    "pycharm": {
     "name": "#%% md\n"
    }
   }
  },
  {
   "cell_type": "code",
   "execution_count": 144,
   "outputs": [],
   "source": [
    "thresholds = arange(0, 1, 0.1)\n",
    "#predictions определены выше\n",
    "fprs = []\n",
    "tprs = []\n",
    "prs = []\n",
    "res = []\n",
    "pr_custom = []\n",
    "for threshold in thresholds:\n",
    "    tp = 0 # True positive\n",
    "    fp = 0 # False positive\n",
    "    fn = 0 # False negative\n",
    "    tn = 0 # True negative\n",
    "    for predicted_prob, actual in zip( predictions[:, 1], y_test ):\n",
    "        if predicted_prob >= threshold:\n",
    "            predicted = 1\n",
    "        else:\n",
    "            predicted = 0\n",
    "\n",
    "        if predicted == 1:\n",
    "            if actual == 1:\n",
    "                tp += 1\n",
    "            else:\n",
    "                fp += 1\n",
    "\n",
    "        else:\n",
    "            if actual == 1:\n",
    "                fn += 1\n",
    "            else:\n",
    "                tn += 1\n",
    "    tpr2 = tp/(tp + fn)\n",
    "    fpr2 = fp/(fp + tn)\n",
    "    precision = tp/(tp + fp)\n",
    "    recall = tpr2 #по определению\n",
    "    fprs.append(fpr2)\n",
    "    tprs.append(tpr2)\n",
    "    prs.append(precision)\n",
    "    res.append(recall)\n"
   ],
   "metadata": {
    "collapsed": false,
    "pycharm": {
     "name": "#%%\n"
    }
   }
  },
  {
   "cell_type": "code",
   "execution_count": 145,
   "outputs": [
    {
     "data": {
      "text/plain": "<Figure size 864x864 with 1 Axes>",
      "image/png": "[encoded data removed]"
     },
     "metadata": {
      "needs_background": "light"
     },
     "output_type": "display_data"
    }
   ],
   "source": [
    "plt.figure(figsize=(12, 12))\n",
    "plt.plot(fpr, tpr, color=\"red\")\n",
    "plt.plot(fprs, tprs, color=\"blue\")\n",
    "plt.title('ROC AUC', fontdict={'fontsize': 20})\n",
    "plt.xlabel('False Positive Rate', fontdict={'fontsize': 20})\n",
    "plt.ylabel('True Positive Rate', fontdict={'fontsize': 20})\n",
    "plt.show()"
   ],
   "metadata": {
    "collapsed": false,
    "pycharm": {
     "name": "#%%\n"
    }
   }
  },
  {
   "cell_type": "code",
   "execution_count": 146,
   "outputs": [
    {
     "data": {
      "text/plain": "<Figure size 864x864 with 1 Axes>",
      "image/png": "[encoded data removed]"
     },
     "metadata": {
      "needs_background": "light"
     },
     "output_type": "display_data"
    }
   ],
   "source": [
    "plt.figure(figsize=(12, 12))\n",
    "plt.plot(prs, res, color=\"red\")\n",
    "plt.title('PR AUC', fontdict={'fontsize': 20})\n",
    "plt.xlabel('Precision', fontdict={'fontsize': 20})\n",
    "plt.ylabel('Recall', fontdict={'fontsize': 20})\n",
    "plt.show()"
   ],
   "metadata": {
    "collapsed": false,
    "pycharm": {
     "name": "#%%\n"
    }
   }
  },
  {
   "cell_type": "code",
   "execution_count": 155,
   "outputs": [
    {
     "name": "stdout",
     "output_type": "stream",
     "text": [
      "0.9204733958944382\n"
     ]
    }
   ],
   "source": [
    "#сортируем по возрастанию, чтобы считать от начала кривой\n",
    "fprs.sort()\n",
    "tprs.sort()\n",
    "#кастомная метрика roc_auc - аналог roc_auc_score, очень приблизительно моделируем площадь фигуры как сумму фигур по шагам\n",
    "custom_roc_auc = 0\n",
    "prev_fpr = 0\n",
    "prev_tpr = 0\n",
    "for index in range(len(fprs)):\n",
    "    if(index != 0):\n",
    "        custom_roc_auc += ((tprs[index] - prev_tpr) * (fprs[index] - prev_fpr) / 2) + (tprs[index] * (fprs[index] - prev_fpr))\n",
    "        prev_tpr = tprs[index]\n",
    "        prev_fpr = fprs[index]\n",
    "print(custom_roc_auc)"
   ],
   "metadata": {
    "collapsed": false,
    "pycharm": {
     "name": "#%%\n"
    }
   }
  },
  {
   "cell_type": "markdown",
   "source": [
    "9. Сформулируйте выводы по проделанной работе\n",
    "\n",
    "Сравнение библиотечного и кастомного подсчета графика и метрик TPR, PFR показывает, что они различаются незначительно, так как используют один и тот же принцип подсчета фактически, при попытке увеличения числа кастомных шагов (я действительно это попробовал для интереса) кривые фактически сливаются. Подсчет метрики roc_auc_score и ее кастомного аналога, который я придумал, отличаются несколько больше, это связано с неточностью моей модели площади фигуры, как площади сильно спрямленных четырехугольников, на которые опирается каждый шаг фигуры. Точно также, при увеличении числа шагов точность совпадения обеих метрик улучшается. Лучше пользоваться библиотечными функциями, это очень просто, а работа, как я понял, предназначена скорее для того, чтобы лучше понимать, что происходит \"под капотом\" при подсчете метрик и чтобы лучше их усвоить и запомнить."
   ],
   "metadata": {
    "collapsed": false,
    "pycharm": {
     "name": "#%% md\n"
    }
   }
  },
  {
   "cell_type": "markdown",
   "source": [],
   "metadata": {
    "collapsed": false,
    "pycharm": {
     "name": "#%% md\n"
    }
   }
  }
 ],
 "metadata": {
  "kernelspec": {
   "display_name": "Python 3",
   "language": "python",
   "name": "python3"
  },
  "language_info": {
   "codemirror_mode": {
    "name": "ipython",
    "version": 2
   },
   "file_extension": ".py",
   "mimetype": "text/x-python",
   "name": "python",
   "nbconvert_exporter": "python",
   "pygments_lexer": "ipython2",
   "version": "2.7.6"
  }
 },
 "nbformat": 4,
 "nbformat_minor": 0
}